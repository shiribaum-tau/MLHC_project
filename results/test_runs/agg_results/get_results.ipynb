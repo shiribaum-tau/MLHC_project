{
 "cells": [
  {
   "cell_type": "code",
   "execution_count": 1,
   "id": "3fd6d985",
   "metadata": {},
   "outputs": [],
   "source": [
    "import os\n",
    "import joblib\n"
   ]
  },
  {
   "cell_type": "code",
   "execution_count": null,
   "id": "f32e5854",
   "metadata": {},
   "outputs": [],
   "source": [
    "def walk_and_read_pickles(root_dir):\n",
    "    all_data_36 = []\n",
    "    for dirpath, dirnames, filenames in os.walk(root_dir):\n",
    "        for fname in filenames:\n",
    "            if not fname.endswith('.pkl'):\n",
    "                continue\n",
    "            fpath = os.path.join(dirpath, fname)\n",
    "            try:\n",
    "                dat = joblib.load(fpath)\n",
    "                print(f\"Read: {fpath}\")\n",
    "            except Exception as e:\n",
    "                print(f\"Failed to read {fpath}: {e}\")\n",
    "            \n",
    "            import ipdb;ipdb.set_trace()\n",
    "            dat_36 = dat[36]\n",
    "            dat_36['disease'], dat_36['model'] = dirpath, fname\n",
    "            all_data_36.append(dat_36)\n",
    "    return all_data_36"
   ]
  },
  {
   "cell_type": "code",
   "execution_count": 5,
   "id": "df64510f",
   "metadata": {},
   "outputs": [
    {
     "name": "stdout",
     "output_type": "stream",
     "text": [
      "Read: .\\bc_all\\MLP.pkl\n",
      "Read: .\\bc_all\\Multi-modal Transformer.pkl\n",
      "Read: .\\bc_all\\Paper Transformer.pkl\n",
      "Read: .\\bc_all\\Transformer.pkl\n",
      "Read: .\\bc_women\\MLP.pkl\n",
      "Read: .\\bc_women\\Multi-modal Transformer.pkl\n",
      "Read: .\\bc_women\\Paper Transformer.pkl\n",
      "Read: .\\bc_women\\Transformer.pkl\n",
      "Read: .\\panc\\MLP.pkl\n",
      "Read: .\\panc\\Multi-modal Transformer.pkl\n",
      "Read: .\\panc\\Paper Transformer.pkl\n",
      "Read: .\\panc\\Transformer.pkl\n",
      "Read: .\\skin_cancer\\MLP.pkl\n",
      "Read: .\\skin_cancer\\Multi-modal Transformer.pkl\n",
      "Read: .\\skin_cancer\\Paper Transformer.pkl\n",
      "Read: .\\skin_cancer\\Transformer.pkl\n",
      "Read: .\\t2d\\MLP.pkl\n",
      "Read: .\\t2d\\Multi-modal Transformer.pkl\n",
      "Read: .\\t2d\\Paper Transformer.pkl\n",
      "Read: .\\t2d\\Transformer.pkl\n"
     ]
    }
   ],
   "source": [
    "dat = walk_and_read_pickles(\".\")"
   ]
  },
  {
   "cell_type": "code",
   "execution_count": 7,
   "id": "a3f509a0",
   "metadata": {},
   "outputs": [
    {
     "ename": "AttributeError",
     "evalue": "'NoneType' object has no attribute 'keys'",
     "output_type": "error",
     "traceback": [
      "\u001b[1;31m---------------------------------------------------------------------------\u001b[0m",
      "\u001b[1;31mAttributeError\u001b[0m                            Traceback (most recent call last)",
      "Cell \u001b[1;32mIn[7], line 1\u001b[0m\n\u001b[1;32m----> 1\u001b[0m dat\u001b[38;5;241m.\u001b[39mkeys()\n",
      "\u001b[1;31mAttributeError\u001b[0m: 'NoneType' object has no attribute 'keys'"
     ]
    }
   ],
   "source": [
    "dat.keys()"
   ]
  }
 ],
 "metadata": {
  "kernelspec": {
   "display_name": "base",
   "language": "python",
   "name": "python3"
  },
  "language_info": {
   "codemirror_mode": {
    "name": "ipython",
    "version": 3
   },
   "file_extension": ".py",
   "mimetype": "text/x-python",
   "name": "python",
   "nbconvert_exporter": "python",
   "pygments_lexer": "ipython3",
   "version": "3.12.7"
  }
 },
 "nbformat": 4,
 "nbformat_minor": 5
}
