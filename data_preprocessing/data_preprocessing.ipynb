{
 "cells": [
  {
   "metadata": {},
   "cell_type": "code",
   "source": [
    "import pandas as pd\n",
    "import numpy as np\n",
    "import dask.dataframe as dd\n",
    "import json\n",
    "from sklearn.model_selection import train_test_split\n",
    "from sklearn.preprocessing import StandardScaler"
   ],
   "id": "21787cbbd92d60b7",
   "outputs": [],
   "execution_count": null
  },
  {
   "metadata": {},
   "cell_type": "markdown",
   "source": "# Create diagnosis dates matrix",
   "id": "aa72bc33f07eaef1"
  },
  {
   "metadata": {},
   "cell_type": "code",
   "outputs": [],
   "execution_count": null,
   "source": "full_data_path = \"./sepsis_research/data/ukb675429.csv\"",
   "id": "e7ea83bb6df2577e"
  },
  {
   "metadata": {
    "ExecuteTime": {
     "end_time": "2025-08-23T10:04:32.849589Z",
     "start_time": "2025-08-23T10:04:30.878243Z"
    }
   },
   "cell_type": "code",
   "source": [
    "# Input participant table - choosing eids - LPs individuals (~250K)\n",
    "lps_clinical_table_age = pd.read_csv(\"./MLHC/Data/raw_data/Participant_table/Participant_table all metabolmics data available.csv\")\n",
    "lps_clinical_table_sex = pd.read_csv(\"./MLHC/Data/raw_data/Participant_table/Participant_table all metabolmics data available with gender.csv\")\n",
    "lps_clinical_table_age.drop(columns=[\"Age when attended assessment centre | Instance 0\"], inplace=True)\n",
    "\n",
    "full_clinical_table = lps_clinical_table_age.merge(lps_clinical_table_sex, on=\"Participant ID\")"
   ],
   "id": "5ef104a50ff1ef5d",
   "outputs": [],
   "execution_count": 42
  },
  {
   "metadata": {
    "ExecuteTime": {
     "end_time": "2025-08-23T09:25:47.516506Z",
     "start_time": "2025-08-23T09:25:47.506328Z"
    }
   },
   "cell_type": "code",
   "source": [
    "# Input icd10 list\n",
    "icd10_info = pd.read_csv(\"./MLHC/Data/raw_data/icd10_tree_information.csv\")"
   ],
   "id": "2a99da1a98cb79d6",
   "outputs": [],
   "execution_count": 22
  },
  {
   "metadata": {
    "ExecuteTime": {
     "end_time": "2025-08-23T09:25:51.002629Z",
     "start_time": "2025-08-23T09:25:50.995354Z"
    }
   },
   "cell_type": "code",
   "source": [
    "icd10_info_non_cancer = icd10_info[icd10_info['category'] != \"Cancer\"].copy()\n",
    "icd10_info_non_cancer.dropna(subset=['date_key_number'], inplace=True)\n",
    "icd10_info_non_cancer['date_key_number'] = icd10_info_non_cancer['date_key_number'].astype(int).astype(str)\n",
    "non_canacer_col_keys = icd10_info_non_cancer['date_key_number'].tolist()\n",
    "print(\"Number of non cancer icd10:\", icd10_info_non_cancer.shape[0])\n",
    "\n",
    "icd10_info_cancer = icd10_info[icd10_info['category'] == \"Cancer\"].copy()\n",
    "print(\"Number of cancer icd10:\", icd10_info_cancer.shape[0])\n",
    "cancer_codes = icd10_info_cancer[\"coding\"].to_list()"
   ],
   "id": "229277207b710a90",
   "outputs": [
    {
     "name": "stdout",
     "output_type": "stream",
     "text": [
      "Number of non cancer icd10: 1130\n",
      "Number of cancer icd10: 90\n"
     ]
    }
   ],
   "execution_count": 23
  },
  {
   "metadata": {},
   "cell_type": "markdown",
   "source": "Get cancer diagnosis dates",
   "id": "1f6cab64fb633da3"
  },
  {
   "metadata": {
    "ExecuteTime": {
     "end_time": "2025-08-23T09:25:53.616694Z",
     "start_time": "2025-08-23T09:25:53.614349Z"
    }
   },
   "cell_type": "code",
   "source": [
    "def find_code(row, wanted_codes):\n",
    "    code_ind = np.where(row.isin(wanted_codes))[0]\n",
    "    if len(code_ind) == 0:\n",
    "        return 0\n",
    "    else:\n",
    "        return code_ind[0]"
   ],
   "id": "b3de36362d1a2332",
   "outputs": [],
   "execution_count": 24
  },
  {
   "metadata": {
    "ExecuteTime": {
     "end_time": "2025-08-23T09:27:02.461029Z",
     "start_time": "2025-08-23T09:26:02.182012Z"
    }
   },
   "cell_type": "code",
   "source": [
    "data = dd.read_csv(full_data_path)\n",
    "\n",
    "# Take only cancer columns\n",
    "wanted_columns_mask = [(field.startswith('40006') or field.startswith('40005') or field == 'eid') for field in data.columns]\n",
    "\n",
    "wanted_columns = data.columns[wanted_columns_mask]\n",
    "\n",
    "d = {field:\"str\" for field in wanted_columns if field != 'eid'}\n",
    "\n",
    "data = dd.read_csv(full_data_path, dtype=d, usecols=list(wanted_columns))\n",
    "\n",
    "# Take only chosen eids\n",
    "data_filtered_cancer = data[data[\"eid\"].isin(full_clinical_table[\"Participant ID\"])]\n",
    "\n",
    "data_filtered_cancer = data_filtered_cancer.compute(num_workers=80)"
   ],
   "id": "ddb9582d2eced299",
   "outputs": [],
   "execution_count": 25
  },
  {
   "metadata": {},
   "cell_type": "code",
   "source": [
    "# Match cancer diagnosis date to the diagnosis code\n",
    "data_filtered_cancer = data_filtered_cancer.dropna(how='all', subset=data_filtered_cancer.columns[1:]).reset_index(drop=True)\n",
    "\n",
    "chosen_cols_mask_cancer = [(field.startswith('40006') or field == 'eid') for field in data_filtered_cancer.columns]\n",
    "chosen_cols_cancer = data_filtered_cancer.columns[chosen_cols_mask_cancer]\n",
    "\n",
    "cancer_df = data_filtered_cancer[chosen_cols_cancer].copy().reset_index(drop=True)\n",
    "cancer_df.iloc[:, 1:] = cancer_df.iloc[:, 1:].applymap(lambda x: x[:3] if isinstance(x, str) else x)\n",
    "print(cancer_df.head())\n",
    "print(cancer_df.shape)\n",
    "\n",
    "chosen_cols_mask_cancer_date = [(field.startswith('40005') or field == 'eid') for field in data_filtered_cancer.columns]\n",
    "chosen_cols_cancer_date = data_filtered_cancer.columns[chosen_cols_mask_cancer_date]\n",
    "\n",
    "cancer_date_df = data_filtered_cancer[chosen_cols_cancer_date].copy().reset_index(drop=True)\n",
    "print(cancer_date_df.head())\n",
    "print(cancer_date_df.shape)"
   ],
   "id": "39c728237c0fb378",
   "outputs": [],
   "execution_count": null
  },
  {
   "metadata": {},
   "cell_type": "code",
   "source": [
    "patient_to_cancer_df = cancer_df[[\"eid\"]].copy()\n",
    "\n",
    "for code in cancer_codes:\n",
    "    patient_to_cancer_df[f'tmp_{code}'] = cancer_df.apply(lambda row: find_code(row, [code]), axis=1)\n",
    "    patient_to_cancer_df[f'{code}'] = cancer_date_df.to_numpy()[\n",
    "        np.arange(patient_to_cancer_df.shape[0]), patient_to_cancer_df[f'tmp_{code}']]\n",
    "\n",
    "    missing_indices = np.where(patient_to_cancer_df[f'tmp_{code}'] == 0)[0]\n",
    "    patient_to_cancer_df.loc[missing_indices, f'{code}'] = np.nan\n",
    "    patient_to_cancer_df.drop(columns=[f'tmp_{code}'], inplace=True)\n",
    "\n",
    "patient_to_cancer_df = patient_to_cancer_df[patient_to_cancer_df.iloc[:, 1:].notna().sum(axis=1) > 0]\n",
    "print(patient_to_cancer_df.shape)\n",
    "patient_to_cancer_df.head(15)"
   ],
   "id": "2292c0a88a3cf96b",
   "outputs": [],
   "execution_count": null
  },
  {
   "metadata": {},
   "cell_type": "markdown",
   "source": "Get non-cancer diagnosis dates",
   "id": "7404a7e2cd0a1f22"
  },
  {
   "metadata": {},
   "cell_type": "code",
   "source": [
    "data = dd.read_csv(full_data_path)\n",
    "\n",
    "# Take non cancer first occurrences columns and death dates\n",
    "wanted_columns_mask = [any(field.startswith(prefix) for prefix in non_canacer_col_keys) or field.startswith('40000') or field.startswith('3140-') or field == 'eid' for field in\n",
    "                       data.columns]\n",
    "\n",
    "wanted_columns = data.columns[wanted_columns_mask]\n",
    "\n",
    "d = {field: \"str\" for field in wanted_columns if field != 'eid'}\n",
    "\n",
    "data = dd.read_csv(full_data_path, dtype=d, usecols=list(wanted_columns))\n",
    "\n",
    "# Take only chosen eids\n",
    "data_filtered_non_cancer = data[data[\"eid\"].isin(full_clinical_table[\"Participant ID\"])]\n",
    "\n",
    "data_filtered_non_cancer = data_filtered_non_cancer.compute(num_workers=80)"
   ],
   "id": "8eb51e8838c534b3",
   "outputs": [],
   "execution_count": null
  },
  {
   "metadata": {
    "ExecuteTime": {
     "end_time": "2025-08-23T09:59:28.231285Z",
     "start_time": "2025-08-23T09:59:15.267859Z"
    }
   },
   "cell_type": "code",
   "source": [
    "col_map_non_cancer = dict(zip(icd10_info_non_cancer['date_key_number'], icd10_info_non_cancer['coding']))\n",
    "\n",
    "data_filtered_non_cancer.drop(columns=['3140-1.0', '3140-2.0', '3140-3.0'], inplace=True)\n",
    "\n",
    "data_filtered_non_cancer = data_filtered_non_cancer.rename(columns={'40000-0.0':'dod', '40000-1.0':'death_date_1', '3140-0.0': \"Pregnant | Instance 0\"})\n",
    "data_filtered_non_cancer.drop(columns=['death_date_1'], inplace=True)\n",
    "data_filtered_non_cancer = data_filtered_non_cancer.rename(columns=dict(\n",
    "    zip(data_filtered_non_cancer.columns, [col.split('-')[0] for col in data_filtered_non_cancer.columns])))\n",
    "data_filtered_non_cancer = data_filtered_non_cancer.rename(columns=col_map_non_cancer)"
   ],
   "id": "26bac6ab0bcd3df8",
   "outputs": [],
   "execution_count": 34
  },
  {
   "metadata": {
    "ExecuteTime": {
     "end_time": "2025-08-23T10:05:11.607860Z",
     "start_time": "2025-08-23T10:05:02.821468Z"
    }
   },
   "cell_type": "code",
   "source": [
    "clinical_data_non_cancer = pd.merge(data_filtered_non_cancer, full_clinical_table, left_on=\"eid\", right_on=\"Participant ID\", how='inner')\n",
    "# Drop duplicate id column\n",
    "clinical_data_non_cancer.drop(columns=\"Participant ID\", inplace=True)\n",
    "\n",
    "# df2_cols = [\"Age when attended assessment centre | Instance 0\", \"Sex\", \"Date of attending assessment centre | Instance 0\", \"Treatment/medication code | Instance 0\", \"Pregnant | Instance 0\"]\n",
    "df2_cols = [\"Age when attended assessment centre | Instance 0\", \"Sex\", \"Date of attending assessment centre | Instance 0\"]\n",
    "df1_cols = [col for col in data_filtered_non_cancer.columns if col != \"eid\"]\n",
    "\n",
    "clinical_data_non_cancer = clinical_data_non_cancer[[\"eid\"] + df2_cols + df1_cols]\n",
    "clinical_data_non_cancer.rename(columns={'Date of attending assessment centre | Instance 0':'doa'}, inplace=True)"
   ],
   "id": "3ca7a3dc94fe1456",
   "outputs": [],
   "execution_count": 43
  },
  {
   "metadata": {
    "ExecuteTime": {
     "end_time": "2025-08-23T10:05:48.122985Z",
     "start_time": "2025-08-23T10:05:40.316118Z"
    }
   },
   "cell_type": "code",
   "source": [
    "# Merge cancer dates and all other icd10 codes\n",
    "full_clinical_data = clinical_data_non_cancer.merge(patient_to_cancer_df, on=\"eid\", how=\"left\")"
   ],
   "id": "15953ea2c6b41303",
   "outputs": [],
   "execution_count": 44
  },
  {
   "metadata": {},
   "cell_type": "code",
   "source": [
    "# Calculate estimated dob\n",
    "dob_tmp = (pd.to_datetime(full_clinical_data[\"doa\"]) - pd.to_timedelta(full_clinical_data[\"Age when attended assessment centre | Instance 0\"] * 365.25, unit=\"D\")).dt.normalize()\n",
    "\n",
    "full_clinical_data.insert(4, \"dob\", dob_tmp)"
   ],
   "id": "3959fafe999d53c9",
   "outputs": [],
   "execution_count": null
  },
  {
   "metadata": {
    "ExecuteTime": {
     "end_time": "2025-08-23T10:09:18.361612Z",
     "start_time": "2025-08-23T10:08:42.821826Z"
    }
   },
   "cell_type": "code",
   "source": "full_clinical_data.to_csv(\"./MLHC/Data/raw_data/patient_to_all_icd10_dates_lps_individuals.csv\", index=False)",
   "id": "e5c232352a61da9e",
   "outputs": [],
   "execution_count": 46
  },
  {
   "metadata": {},
   "cell_type": "markdown",
   "source": "# Create anonymization maps",
   "id": "67a6581791ac0226"
  },
  {
   "metadata": {
    "ExecuteTime": {
     "end_time": "2025-08-17T08:49:42.896921Z",
     "start_time": "2025-08-17T08:49:01.955775Z"
    }
   },
   "cell_type": "code",
   "source": [
    "data = dd.read_csv(full_data_path)\n",
    "\n",
    "wanted_columns_mask = [field == 'eid' for field in data.columns]\n",
    "\n",
    "wanted_columns = data.columns[wanted_columns_mask]\n",
    "\n",
    "d = {field: \"str\" for field in wanted_columns if field != 'eid'}\n",
    "\n",
    "data = dd.read_csv(full_data_path, dtype=d, usecols=list(wanted_columns))\n",
    "\n",
    "full_data_eids = data.compute(num_workers=80)"
   ],
   "id": "2f85fad1a1471611",
   "outputs": [],
   "execution_count": 24
  },
  {
   "metadata": {
    "ExecuteTime": {
     "end_time": "2025-08-17T08:52:08.641400Z",
     "start_time": "2025-08-17T08:52:08.620211Z"
    }
   },
   "cell_type": "code",
   "source": "full_data_eids_shuffled = full_data_eids.sample(frac=1, random_state=42).reset_index(drop=True)",
   "id": "66e1d8e162885ec5",
   "outputs": [],
   "execution_count": 26
  },
  {
   "metadata": {
    "ExecuteTime": {
     "end_time": "2025-08-17T09:02:03.852281Z",
     "start_time": "2025-08-17T09:02:03.428730Z"
    }
   },
   "cell_type": "code",
   "source": [
    "# Map ukb eid to anonymous eid\n",
    "anonymous_eid = range(1, len(full_data_eids_shuffled['eid'].drop_duplicates())+1)\n",
    "date_shift = np.random.randint(-3000, 3000, size=len(full_data_eids_shuffled))\n",
    "\n",
    "# Map ukb eid to random number of days to shift all dates by\n",
    "eid_anonymization = pd.DataFrame({'eid': full_data_eids_shuffled['eid'].drop_duplicates().copy(), 'anonymous_eid': anonymous_eid, 'date_shift_days': date_shift})\n",
    "\n",
    "eid_anonymization.to_csv(\"./MLHC/Data/preprocessed_data/eid_anonymization_map.csv\", index=False)"
   ],
   "id": "5a0c18fafacded54",
   "outputs": [],
   "execution_count": 34
  },
  {
   "metadata": {},
   "cell_type": "code",
   "source": [
    "# Map icd10 code to anonymous number\n",
    "full_data = pd.read_csv(\"./MLHC/Data/raw_data/patient_to_all_icd10_dates_olink_individuals.csv\")\n",
    "\n",
    "icd10_codes = full_data.columns[8:].tolist()\n",
    "codes_anony = list(range(1, len(icd10_codes)+1))\n",
    "\n",
    "rng = np.random.default_rng(seed=42)\n",
    "rng.shuffle(codes_anony)\n",
    "\n",
    "icd10_anonymization = pd.DataFrame({\n",
    "    \"original_code\": icd10_codes,\n",
    "    \"anon_code\": codes_anony\n",
    "})\n",
    "\n",
    "icd10_anonymization.to_csv(\"./MLHC/Data/preprocessed_data/icd10_anonymization_map.csv\", index=False)"
   ],
   "id": "8b3a21b7611f8b31",
   "outputs": [],
   "execution_count": null
  },
  {
   "metadata": {
    "ExecuteTime": {
     "end_time": "2025-09-07T08:10:11.575463Z",
     "start_time": "2025-09-07T08:10:11.564571Z"
    }
   },
   "cell_type": "code",
   "source": [
    "# Map blood sample name to anonymous number\n",
    "icd10_anonymization = pd.read_csv(\"./MLHC/Data/preprocessed_data/icd10_anonymization_map.csv\")\n",
    "blood_tests_info = pd.read_csv(\"./MLHC/Data/raw_data/blood_tests_information.csv\")\n",
    "\n",
    "blood_codes_anonymous = list(range(icd10_anonymization.shape[0]+1, (icd10_anonymization.shape[0] + 1) + blood_tests_info.shape[0]))\n",
    "\n",
    "rng = np.random.default_rng(seed=42)\n",
    "rng.shuffle(blood_codes_anonymous)\n",
    "\n",
    "blood_anonymization = pd.DataFrame({\n",
    "    \"original_name\": blood_tests_info[\"title\"],\n",
    "    \"anon_code\": blood_codes_anonymous\n",
    "})\n",
    "\n",
    "blood_anonymization.to_csv(\"./MLHC/Data/preprocessed_data/blood_anonymization_map.csv\", index=False)"
   ],
   "id": "bfcd958f65c66ef9",
   "outputs": [],
   "execution_count": 42
  },
  {
   "metadata": {},
   "cell_type": "markdown",
   "source": "# Filter individuals and split to groups",
   "id": "83fe2c5981aa602"
  },
  {
   "metadata": {},
   "cell_type": "code",
   "source": "raw_df = pd.read_csv(\"./MLHC/Data/raw_data/patient_to_all_icd10_dates_lps_individuals.csv\")",
   "id": "93fde05344fad7f2",
   "outputs": [],
   "execution_count": null
  },
  {
   "metadata": {
    "ExecuteTime": {
     "end_time": "2025-08-23T10:12:02.614879Z",
     "start_time": "2025-08-23T10:11:25.177421Z"
    }
   },
   "cell_type": "code",
   "source": [
    "# filter out individuals with abnormal diagnosis dates\n",
    "special_codes = [\"1901-01-01\", \"1902-02-02\", \"1903-03-03\", \"2037-07-07\"]\n",
    "\n",
    "mask = raw_df.isin(special_codes).any(axis=1)\n",
    "filtered_df = raw_df[~mask].copy()\n",
    "\n",
    "# filter out individuals with less than 5 diagnosis dates\n",
    "icd10_cols = raw_df.columns[7:].tolist()\n",
    "mask = filtered_df[icd10_cols].notna().sum(axis=1) >= 5\n",
    "filtered_df = filtered_df[mask].copy()\n"
   ],
   "id": "861dcd5347389a27",
   "outputs": [],
   "execution_count": 49
  },
  {
   "metadata": {
    "ExecuteTime": {
     "end_time": "2025-08-23T10:12:39.419209Z",
     "start_time": "2025-08-23T10:12:31.685216Z"
    }
   },
   "cell_type": "code",
   "source": [
    "# Spilt eid to train, validation, test\n",
    "train_df, temp_df = train_test_split(filtered_df, test_size=0.2, random_state=42)\n",
    "\n",
    "val_df, test_df = train_test_split(temp_df, test_size=0.5, random_state=42)"
   ],
   "id": "34eb65cfb73150c7",
   "outputs": [],
   "execution_count": 50
  },
  {
   "metadata": {
    "ExecuteTime": {
     "end_time": "2025-08-23T10:12:46.440097Z",
     "start_time": "2025-08-23T10:12:43.306949Z"
    }
   },
   "cell_type": "code",
   "source": [
    "eid_to_split = {}\n",
    "\n",
    "eid_to_split.update({eid: \"train\" for eid in train_df[\"eid\"]})\n",
    "eid_to_split.update({eid: \"val\" for eid in val_df[\"eid\"]})\n",
    "eid_to_split.update({eid: \"test\" for eid in test_df[\"eid\"]})\n",
    "\n",
    "filtered_df[\"split_group\"] = filtered_df[\"eid\"].map(eid_to_split)\n",
    "cols = list(filtered_df.columns)\n",
    "cols.insert(1, cols.pop(cols.index(\"split_group\")))\n",
    "filtered_df = filtered_df[cols]"
   ],
   "id": "e9cd5308f7e348b8",
   "outputs": [],
   "execution_count": 51
  },
  {
   "metadata": {
    "ExecuteTime": {
     "end_time": "2025-08-23T10:14:06.586437Z",
     "start_time": "2025-08-23T10:13:39.216973Z"
    }
   },
   "cell_type": "code",
   "source": "filtered_df.to_csv(\"./MLHC/Data/preprocessed_data/LPs_ind/patient_to_all_icd10_dates_lps_individuals_filtered.csv\", index=False)",
   "id": "78f8f08bb57f41d7",
   "outputs": [],
   "execution_count": 52
  },
  {
   "metadata": {},
   "cell_type": "markdown",
   "source": "# Anonymize data",
   "id": "7b70e6b5156af035"
  },
  {
   "metadata": {},
   "cell_type": "code",
   "source": [
    "raw_df = pd.read_csv(\"./MLHC/Data/preprocessed_data/LPs_ind/patient_to_all_icd10_dates_lps_individuals_filtered.csv\")\n",
    "eid_anonymization_map = pd.read_csv(\"./MLHC/Data/preprocessed_data/eid_anonymization_map.csv\")\n",
    "icd10_anonymization_map = pd.read_csv(\"./MLHC/Data/preprocessed_data/icd10_anonymization_map.csv\")"
   ],
   "id": "72c97ee4d0ef4f64",
   "outputs": [],
   "execution_count": null
  },
  {
   "metadata": {
    "ExecuteTime": {
     "end_time": "2025-08-23T10:37:44.842980Z",
     "start_time": "2025-08-23T10:37:39.950540Z"
    }
   },
   "cell_type": "code",
   "source": [
    "# Filter wanted columns\n",
    "icd10_cols = raw_df.columns[8:].tolist()\n",
    "anonymous_df = raw_df[[\"eid\", \"split_group\", \"Sex\", \"dob\", \"doa\", \"dod\"] + icd10_cols].copy()"
   ],
   "id": "42a159dc5f4c77b3",
   "outputs": [],
   "execution_count": 81
  },
  {
   "metadata": {},
   "cell_type": "code",
   "source": "anonymous_df[\"doa\"].apply(pd.to_datetime, errors=\"coerce\")",
   "id": "e1188cf6e5a84f92",
   "outputs": [],
   "execution_count": null
  },
  {
   "metadata": {},
   "cell_type": "code",
   "source": [
    "# Date shift for the following: dob, dod, doa and diagnosis\n",
    "anonymous_df = anonymous_df.merge(eid_anonymization_map[[\"eid\", \"date_shift_days\"]], on=\"eid\", how=\"left\")\n",
    "cols = anonymous_df.columns.tolist()\n",
    "cols.insert(1, cols.pop(cols.index(\"date_shift_days\")))\n",
    "anonymous_df = anonymous_df[cols]\n",
    "\n",
    "anonymous_df[\"doa\"] = anonymous_df[\"doa\"].apply(pd.to_datetime, errors=\"coerce\")\n",
    "anonymous_df[\"dob\"] = anonymous_df[\"dob\"].apply(pd.to_datetime, errors=\"coerce\")\n",
    "anonymous_df[\"dod\"] = anonymous_df[\"dod\"].apply(pd.to_datetime, errors=\"coerce\")\n",
    "anonymous_df[anonymous_df.columns[7:]] = anonymous_df[anonymous_df.columns[7:]].apply(pd.to_datetime, errors=\"coerce\")\n",
    "\n",
    "cols_to_shift = anonymous_df.columns[4:]\n",
    "# anonymous_df[cols_to_shift] = anonymous_df[cols_to_shift].apply(pd.to_datetime, errors=\"coerce\")\n",
    "anonymous_df[cols_to_shift] = anonymous_df[cols_to_shift].add(\n",
    "    pd.to_timedelta(anonymous_df[\"date_shift_days\"], unit=\"D\"), axis=0\n",
    ")\n",
    "anonymous_df.drop(columns=[\"date_shift_days\"], inplace=True)"
   ],
   "id": "96a0c4ab9994688a",
   "outputs": [],
   "execution_count": null
  },
  {
   "metadata": {
    "ExecuteTime": {
     "end_time": "2025-08-23T10:41:49.804221Z",
     "start_time": "2025-08-23T10:41:46.430125Z"
    }
   },
   "cell_type": "code",
   "source": [
    "# anonymize the eid\n",
    "eid_to_aeid = dict(zip(eid_anonymization_map['eid'], eid_anonymization_map['anonymous_eid']))\n",
    "\n",
    "# anonymize the icd10 codes\n",
    "icd10_to_aicd10 = dict(zip(icd10_anonymization_map['original_code'], icd10_anonymization_map['anon_code']))\n",
    "\n",
    "anonymous_df.set_index('eid', inplace=True)\n",
    "\n",
    "anonymous_df = anonymous_df.rename(index=eid_to_aeid, columns=icd10_to_aicd10, inplace=False).reset_index()"
   ],
   "id": "a5b847fcbc314df",
   "outputs": [],
   "execution_count": 83
  },
  {
   "metadata": {
    "ExecuteTime": {
     "end_time": "2025-08-23T10:43:44.933537Z",
     "start_time": "2025-08-23T10:42:32.216091Z"
    }
   },
   "cell_type": "code",
   "source": "anonymous_df.to_csv(\"./MLHC/Data/preprocessed_data/LPs_ind/patient_to_all_icd10_dates_lps_individuals_anonymous.csv\", index=False)",
   "id": "cd3c344339a80b0c",
   "outputs": [],
   "execution_count": 84
  },
  {
   "metadata": {},
   "cell_type": "markdown",
   "source": "# Create JSON data file",
   "id": "8b724cac9013c3b1"
  },
  {
   "metadata": {},
   "cell_type": "code",
   "source": "data_df = pd.read_csv(\"./MLHC/Data/preprocessed_data/LPs_ind/patient_to_all_icd10_dates_lps_individuals_anonymous.csv\")",
   "id": "c8535c5546705e24",
   "outputs": [],
   "execution_count": null
  },
  {
   "metadata": {
    "ExecuteTime": {
     "end_time": "2025-08-23T10:45:19.411924Z",
     "start_time": "2025-08-23T10:45:19.409412Z"
    }
   },
   "cell_type": "code",
   "source": [
    "fixed_cols = [\"eid\", \"Sex\", \"split_group\", \"dob\", \"doa\", \"dod\"]\n",
    "icd10_cols = data_df.columns[6:]"
   ],
   "id": "90ff7a480dac80de",
   "outputs": [],
   "execution_count": 86
  },
  {
   "metadata": {
    "ExecuteTime": {
     "end_time": "2025-08-23T10:49:43.687956Z",
     "start_time": "2025-08-23T10:49:40.661976Z"
    }
   },
   "cell_type": "code",
   "source": [
    "# Get only females\n",
    "data_df = data_df[data_df[\"Sex\"] == \"Female\"]"
   ],
   "id": "35dbb2ff4d2f6954",
   "outputs": [],
   "execution_count": 89
  },
  {
   "metadata": {
    "ExecuteTime": {
     "end_time": "2025-08-23T10:51:24.932548Z",
     "start_time": "2025-08-23T10:49:48.368995Z"
    }
   },
   "cell_type": "code",
   "source": [
    "# Build the JSON structure\n",
    "json_data = {}\n",
    "\n",
    "for idx, row in data_df.iterrows():\n",
    "    eid = str(row[\"eid\"])\n",
    "\n",
    "    # Select only non-null ICD10 columns for this row\n",
    "    icd10_values = row[icd10_cols].dropna()\n",
    "\n",
    "    events = [\n",
    "        {\n",
    "            \"diagdate\": str(v.date()) if hasattr(v, \"date\") else str(v),\n",
    "            \"codes\": code,\n",
    "            \"type\": \"ICD10\"\n",
    "        }\n",
    "        for code, v in icd10_values.items()\n",
    "    ]\n",
    "\n",
    "    json_data[eid] = {\n",
    "        \"birth_date\": str(row[\"dob\"]) if pd.notna(row[\"dob\"]) else None,\n",
    "        \"death_date\": str(row[\"dod\"]) if pd.notna(row[\"dod\"]) else None,\n",
    "        \"attendance_date\": str(row[\"doa\"]) if pd.notna(row[\"doa\"]) else None,\n",
    "        \"events\": events,\n",
    "        \"split_group\": row[\"split_group\"]\n",
    "    }\n"
   ],
   "id": "9e635a3bd46ba2b4",
   "outputs": [],
   "execution_count": 90
  },
  {
   "metadata": {
    "ExecuteTime": {
     "end_time": "2025-08-23T10:51:54.539150Z",
     "start_time": "2025-08-23T10:51:44.645600Z"
    }
   },
   "cell_type": "code",
   "source": [
    "with open(\"./MLHC/Data/preprocessed_data/LPs_ind/lps_females_anonymous.json\", \"w\") as f:\n",
    "    json.dump(json_data, f, indent=2)"
   ],
   "id": "69b6d0e245a0ef58",
   "outputs": [],
   "execution_count": 91
  },
  {
   "metadata": {
    "ExecuteTime": {
     "end_time": "2025-08-17T14:58:52.261782Z",
     "start_time": "2025-08-17T14:58:50.819166Z"
    }
   },
   "cell_type": "code",
   "execution_count": 213,
   "source": [
    "with open(\"./MLHC/Data/preprocessed_data/LPs_ind/lps_females_anonymous.json\", \"r\") as f:\n",
    "    data = json.load(f)"
   ],
   "id": "fecc946c4d3936",
   "outputs": []
  },
  {
   "metadata": {},
   "cell_type": "markdown",
   "source": "# Add blood samples",
   "id": "8531bc496b8a6f7a"
  },
  {
   "metadata": {},
   "cell_type": "markdown",
   "source": "Create base matrix",
   "id": "bb54c557b2a363d7"
  },
  {
   "metadata": {},
   "cell_type": "code",
   "source": [
    "disease_table_filtered = pd.read_csv(\"./MLHC/Data/preprocessed_data/LPs_ind/patient_to_all_icd10_dates_lps_individuals_filtered.csv\")\n",
    "blood_tests_info = pd.read_csv(\"./MLHC/Data/raw_data/blood_tests_information.csv\")"
   ],
   "id": "34ca9af2e47d92f7",
   "outputs": [],
   "execution_count": null
  },
  {
   "metadata": {
    "ExecuteTime": {
     "end_time": "2025-09-07T07:38:52.547644Z",
     "start_time": "2025-09-07T07:38:52.544561Z"
    }
   },
   "cell_type": "code",
   "source": "blood_test_col_keys = [str(i) for i in blood_tests_info['field_id'].tolist()]",
   "id": "ff0687f3582985e4",
   "outputs": [],
   "execution_count": 12
  },
  {
   "metadata": {
    "ExecuteTime": {
     "end_time": "2025-09-07T07:45:08.893277Z",
     "start_time": "2025-09-07T07:43:57.131280Z"
    }
   },
   "cell_type": "code",
   "source": [
    "data = dd.read_csv(full_data_path)\n",
    "\n",
    "wanted_columns_mask = [any(field.startswith(prefix+'-0.0') for prefix in blood_test_col_keys) or field == 'eid' for field in data.columns]\n",
    "\n",
    "wanted_columns = data.columns[wanted_columns_mask]\n",
    "\n",
    "d = {field: \"str\" for field in wanted_columns if field != 'eid'}\n",
    "\n",
    "data = dd.read_csv(full_data_path, dtype=d, usecols=list(wanted_columns))\n",
    "\n",
    "# Take only chosen eids\n",
    "data_filtered = data[data[\"eid\"].isin(disease_table_filtered[\"eid\"])]\n",
    "\n",
    "data_filtered = data_filtered.compute(num_workers=80)"
   ],
   "id": "4e5158fe2522bbc6",
   "outputs": [],
   "execution_count": 17
  },
  {
   "metadata": {
    "ExecuteTime": {
     "end_time": "2025-09-07T07:50:32.882848Z",
     "start_time": "2025-09-07T07:50:32.377042Z"
    }
   },
   "cell_type": "code",
   "source": [
    "col_map_blood_test = dict(zip(blood_test_col_keys, blood_tests_info['title']))\n",
    "\n",
    "data_filtered = data_filtered.rename(columns=dict(\n",
    "    zip(data_filtered.columns, [col.split('-')[0] for col in data_filtered.columns])))\n",
    "data_filtered = data_filtered.rename(columns=col_map_blood_test)"
   ],
   "id": "261d3cf92ceb618e",
   "outputs": [],
   "execution_count": 19
  },
  {
   "metadata": {
    "ExecuteTime": {
     "end_time": "2025-09-07T07:51:56.886140Z",
     "start_time": "2025-09-07T07:51:53.336308Z"
    }
   },
   "cell_type": "code",
   "source": "merged_table = disease_table_filtered.merge(data_filtered, on=\"eid\")",
   "id": "113a6f64104269bd",
   "outputs": [],
   "execution_count": 20
  },
  {
   "metadata": {
    "ExecuteTime": {
     "end_time": "2025-09-07T07:56:07.847763Z",
     "start_time": "2025-09-07T07:55:37.037009Z"
    }
   },
   "cell_type": "code",
   "source": "merged_table.to_csv(\"./MLHC/Data/preprocessed_data/LPs_ind/patient_to_all_icd10_dates_and_blood_lps_individuals_filtered.csv\", index=False)",
   "id": "58159157d431d837",
   "outputs": [],
   "execution_count": 23
  },
  {
   "metadata": {},
   "cell_type": "markdown",
   "source": "Additional filters on individuals",
   "id": "4fa715493704da02"
  },
  {
   "metadata": {},
   "cell_type": "code",
   "source": "merged_table = pd.read_csv(\"./MLHC/Data/preprocessed_data/LPs_ind/patient_to_all_icd10_dates_and_blood_lps_individuals_filtered.csv\")",
   "id": "e4a94958a5e221f5",
   "outputs": [],
   "execution_count": null
  },
  {
   "metadata": {
    "ExecuteTime": {
     "end_time": "2025-09-07T08:42:06.237337Z",
     "start_time": "2025-09-07T08:42:03.118236Z"
    }
   },
   "cell_type": "code",
   "source": [
    "# filter out pregnant individuals during the blood tests (removes 150 patients)\n",
    "merged_table = merged_table[~((merged_table[\"Pregnant | Instance 0\"] == 1) | (merged_table[\"Pregnant | Instance 0\"] == 2))]"
   ],
   "id": "6e07127f921d8bc3",
   "outputs": [],
   "execution_count": 91
  },
  {
   "metadata": {
    "ExecuteTime": {
     "end_time": "2025-09-07T08:21:10.132433Z",
     "start_time": "2025-09-07T08:20:39.689698Z"
    }
   },
   "cell_type": "code",
   "source": "merged_table.to_csv(\"./MLHC/Data/preprocessed_data/LPs_ind/patient_to_all_icd10_dates_and_blood_lps_individuals_farther_filtered.csv\", index=False)",
   "id": "60f1293055a4a299",
   "outputs": [],
   "execution_count": 52
  },
  {
   "metadata": {},
   "cell_type": "markdown",
   "source": "Feature filtration (missingness) and standard scaling",
   "id": "e4a7ff609f5b8c77"
  },
  {
   "metadata": {},
   "cell_type": "code",
   "source": "merged_table = pd.read_csv(\"./MLHC/Data/preprocessed_data/LPs_ind/with_blood/patient_to_all_icd10_dates_and_blood_lps_individuals_farther_filtered.csv\")\n",
   "id": "65be2fb3c57b5d80",
   "outputs": [],
   "execution_count": null
  },
  {
   "metadata": {
    "ExecuteTime": {
     "end_time": "2025-09-07T12:50:28.326556Z",
     "start_time": "2025-09-07T12:50:28.302329Z"
    }
   },
   "cell_type": "code",
   "source": [
    "# Remove blood metrics that are with more than 80% missing values\n",
    "blood_missing_percent = merged_table[merged_table.columns[-30:]].isna().mean() * 100\n",
    "blood_missing_percent = blood_missing_percent.sort_values(ascending=False)\n",
    "\n",
    "print(\"Percentage of missing values per feature:\\n\")\n",
    "for col, pct in blood_missing_percent.items():\n",
    "    print(f\"{col:25} {pct:6.2f}%\")"
   ],
   "id": "630f4b9273d672ec",
   "outputs": [
    {
     "name": "stdout",
     "output_type": "stream",
     "text": [
      "Percentage of missing values per feature:\n",
      "\n",
      "Rheumatoid factor          91.26%\n",
      "Oestradiol                 85.39%\n",
      "Lipoprotein A              23.88%\n",
      "Direct bilirubin           19.19%\n",
      "Testosterone               14.07%\n",
      "SHBG                       13.21%\n",
      "Apolipoprotein A           12.90%\n",
      "Phosphate                  12.54%\n",
      "Total protein              12.50%\n",
      "Glucose                    12.47%\n",
      "Calcium                    12.42%\n",
      "HDL cholesterol            12.41%\n",
      "Albumin                    12.38%\n",
      "Vitamin D                   8.65%\n",
      "IGF-1                       4.92%\n",
      "Apolipoprotein B            4.88%\n",
      "Total bilirubin             4.79%\n",
      "Glycated haemoglobin (HbA1c)   4.76%\n",
      "Aspartate aminotransferase   4.74%\n",
      "C-reactive protein          4.60%\n",
      "LDL direct                  4.58%\n",
      "Urate                       4.52%\n",
      "Triglycerides               4.47%\n",
      "Urea                        4.47%\n",
      "Creatinine                  4.44%\n",
      "Gamma glutamyltransferase   4.43%\n",
      "Alanine aminotransferase    4.42%\n",
      "Cystatin C                  4.40%\n",
      "Cholesterol                 4.39%\n",
      "Alkaline phosphatase        4.38%\n"
     ]
    }
   ],
   "execution_count": 177
  },
  {
   "metadata": {
    "ExecuteTime": {
     "end_time": "2025-09-07T12:50:39.759524Z",
     "start_time": "2025-09-07T12:50:36.500515Z"
    }
   },
   "cell_type": "code",
   "source": "merged_table.drop(columns=[\"Rheumatoid factor\", \"Oestradiol\"], inplace=True)",
   "id": "9de7d9fc8233ed57",
   "outputs": [],
   "execution_count": 178
  },
  {
   "metadata": {
    "ExecuteTime": {
     "end_time": "2025-09-07T12:54:22.763013Z",
     "start_time": "2025-09-07T12:54:15.359883Z"
    }
   },
   "cell_type": "code",
   "source": [
    "# Standartization\n",
    "\n",
    "blood_columns = merged_table.columns[-28:].tolist()\n",
    "\n",
    "scaled_train = merged_table[merged_table[\"split_group\"] == \"train\"].copy()\n",
    "scaled_val = merged_table[merged_table[\"split_group\"] == \"val\"].copy()\n",
    "scaled_test = merged_table[merged_table[\"split_group\"] == \"test\"].copy()\n",
    "\n",
    "scaler = StandardScaler()\n",
    "scaler.fit(scaled_train[blood_columns])\n",
    "\n",
    "scaled_train[blood_columns] = scaler.transform(scaled_train[blood_columns])\n",
    "scaled_val[blood_columns] = scaler.transform(scaled_val[blood_columns])\n",
    "scaled_test[blood_columns] = scaler.transform(scaled_test[blood_columns])"
   ],
   "id": "8154a109eb4f767c",
   "outputs": [],
   "execution_count": 186
  },
  {
   "metadata": {
    "ExecuteTime": {
     "end_time": "2025-09-07T12:55:09.554996Z",
     "start_time": "2025-09-07T12:55:04.191379Z"
    }
   },
   "cell_type": "code",
   "source": "merged_table_scaled = pd.concat([scaled_train, scaled_val, scaled_test], axis=0, sort=False).sort_index()\n",
   "id": "df098b9c6d747128",
   "outputs": [],
   "execution_count": 188
  },
  {
   "metadata": {
    "ExecuteTime": {
     "end_time": "2025-09-07T12:58:21.994210Z",
     "start_time": "2025-09-07T12:57:41.656221Z"
    }
   },
   "cell_type": "code",
   "source": "merged_table_scaled.to_csv(\"./MLHC/Data/preprocessed_data/LPs_ind/with_blood/patient_to_all_icd10_dates_and_blood_lps_individuals_filtered_scaled.csv\", index=False)\n",
   "id": "90e2abcf5d269f4c",
   "outputs": [],
   "execution_count": 192
  },
  {
   "metadata": {},
   "cell_type": "markdown",
   "source": "Anonymize data",
   "id": "5feb05003aa0c397"
  },
  {
   "metadata": {},
   "cell_type": "code",
   "source": [
    "merged_table = pd.read_csv(\"./MLHC/Data/preprocessed_data/LPs_ind/with_blood/patient_to_all_icd10_dates_and_blood_lps_individuals_filtered_scaled.csv\")\n",
    "anon_df = pd.read_csv(\"./MLHC/Data/preprocessed_data/LPs_ind/patient_to_all_icd10_dates_lps_individuals_anonymous.csv\")\n",
    "eid_anonymization_map = pd.read_csv(\"./MLHC/Data/preprocessed_data/eid_anonymization_map.csv\")\n",
    "icd10_anonymization_map = pd.read_csv(\"./MLHC/Data/preprocessed_data/icd10_anonymization_map.csv\")\n",
    "blood_anonymization_map = pd.read_csv(\"./MLHC/Data/preprocessed_data/blood_anonymization_map.csv\")"
   ],
   "id": "b88fb153f4bea738",
   "outputs": [],
   "execution_count": null
  },
  {
   "metadata": {
    "ExecuteTime": {
     "end_time": "2025-09-07T13:18:46.184314Z",
     "start_time": "2025-09-07T13:18:43.655731Z"
    }
   },
   "cell_type": "code",
   "source": "merged_table = merged_table.merge(eid_anonymization_map, on=\"eid\")",
   "id": "78bc53ec39240d0e",
   "outputs": [],
   "execution_count": 196
  },
  {
   "metadata": {
    "ExecuteTime": {
     "end_time": "2025-09-07T13:18:58.004754Z",
     "start_time": "2025-09-07T13:18:55.304278Z"
    }
   },
   "cell_type": "code",
   "source": "anon_df = anon_df[anon_df[\"eid\"].isin(merged_table[\"anonymous_eid\"])]",
   "id": "e98b3d26781adf48",
   "outputs": [],
   "execution_count": 197
  },
  {
   "metadata": {
    "ExecuteTime": {
     "end_time": "2025-09-07T13:20:29.719581Z",
     "start_time": "2025-09-07T13:20:23.867703Z"
    }
   },
   "cell_type": "code",
   "source": "anon_df = anon_df.merge(merged_table[merged_table.columns[-30:-1]], right_on=\"anonymous_eid\", left_on=\"eid\", how=\"left\").drop(\"anonymous_eid\", axis=1)",
   "id": "bdde17802ef49a17",
   "outputs": [],
   "execution_count": 202
  },
  {
   "metadata": {
    "ExecuteTime": {
     "end_time": "2025-09-07T13:22:16.466656Z",
     "start_time": "2025-09-07T13:22:16.462847Z"
    }
   },
   "cell_type": "code",
   "source": [
    "col_map_blood_test = dict(zip(blood_anonymization_map[\"original_name\"], blood_anonymization_map[\"anon_code\"]))\n",
    "anon_df.rename(columns=col_map_blood_test, inplace=True)"
   ],
   "id": "eb21b8c6e1843e26",
   "outputs": [],
   "execution_count": 207
  },
  {
   "metadata": {
    "ExecuteTime": {
     "end_time": "2025-09-07T13:23:23.585765Z",
     "start_time": "2025-09-07T13:22:45.224790Z"
    }
   },
   "cell_type": "code",
   "source": "anon_df.to_csv(\"./MLHC/Data/preprocessed_data/LPs_ind/with_blood/patient_to_all_icd10_dates_and_blood_lps_individuals_anonymous_scaled.csv\", index=False)",
   "id": "7ffe311d5f997b2d",
   "outputs": [],
   "execution_count": 209
  },
  {
   "metadata": {},
   "cell_type": "markdown",
   "source": "Create JSON",
   "id": "622fcdfd5c944c89"
  },
  {
   "metadata": {},
   "cell_type": "code",
   "source": "data_df = pd.read_csv(\"./MLHC/Data/preprocessed_data/LPs_ind/with_blood/patient_to_all_icd10_dates_and_blood_lps_individuals_anonymous_scaled.csv\")",
   "id": "9af9ac9f94accc7d",
   "outputs": [],
   "execution_count": null
  },
  {
   "metadata": {
    "ExecuteTime": {
     "end_time": "2025-09-07T13:45:41.556075Z",
     "start_time": "2025-09-07T13:45:41.553305Z"
    }
   },
   "cell_type": "code",
   "source": [
    "fixed_cols = [\"eid\", \"Sex\", \"split_group\", \"dob\", \"doa\", \"dod\"]\n",
    "icd10_cols = data_df.columns[6:-28]\n",
    "blood_cols = data_df.columns[-28:]"
   ],
   "id": "f0f33cb94065fd0",
   "outputs": [],
   "execution_count": 237
  },
  {
   "metadata": {
    "ExecuteTime": {
     "end_time": "2025-09-07T13:46:03.519138Z",
     "start_time": "2025-09-07T13:46:00.587195Z"
    }
   },
   "cell_type": "code",
   "source": [
    "# Get only females\n",
    "data_df = data_df[data_df[\"Sex\"] == \"Female\"]"
   ],
   "id": "db9a3bc805ea2eed",
   "outputs": [],
   "execution_count": 238
  },
  {
   "metadata": {
    "ExecuteTime": {
     "end_time": "2025-09-07T13:48:05.078155Z",
     "start_time": "2025-09-07T13:46:10.804329Z"
    }
   },
   "cell_type": "code",
   "source": [
    "# Build the JSON structure\n",
    "json_data = {}\n",
    "\n",
    "for idx, row in data_df.iterrows():\n",
    "    eid = str(row[\"eid\"])\n",
    "\n",
    "    # Select only non-null ICD10 columns for this row\n",
    "    icd10_values = row[icd10_cols].dropna()\n",
    "    blood_values = row[blood_cols].dropna()\n",
    "\n",
    "    icd10_events = [\n",
    "        {\n",
    "            \"diagdate\": str(v.date()) if hasattr(v, \"date\") else str(v),\n",
    "            \"codes\": code,\n",
    "            \"type\": \"ICD10\"\n",
    "        }\n",
    "        for code, v in icd10_values.items()\n",
    "    ]\n",
    "\n",
    "    curr_blood_date = str(row[\"doa\"].date()) if hasattr(row[\"doa\"], \"date\") else str(row[\"doa\"])\n",
    "\n",
    "    blood_events = [\n",
    "        {\n",
    "            \"diagdate\": curr_blood_date,\n",
    "            \"codes\": val,\n",
    "            \"type\": str(test_code)\n",
    "        }\n",
    "        for test_code, val in blood_values.items()\n",
    "    ]\n",
    "\n",
    "    events = icd10_events + blood_events\n",
    "\n",
    "    json_data[eid] = {\n",
    "        \"birth_date\": str(row[\"dob\"]) if pd.notna(row[\"dob\"]) else None,\n",
    "        \"death_date\": str(row[\"dod\"]) if pd.notna(row[\"dod\"]) else None,\n",
    "        \"attendance_date\": str(row[\"doa\"]) if pd.notna(row[\"doa\"]) else None,\n",
    "        \"events\": events,\n",
    "        \"split_group\": row[\"split_group\"]\n",
    "    }\n"
   ],
   "id": "afd284e6d6a8eb29",
   "outputs": [],
   "execution_count": 239
  },
  {
   "metadata": {
    "ExecuteTime": {
     "end_time": "2025-09-07T13:49:54.268223Z",
     "start_time": "2025-09-07T13:49:26.780950Z"
    }
   },
   "cell_type": "code",
   "source": [
    "with open(\"./MLHC/Data/preprocessed_data/LPs_ind/with_blood/lps_females_anonymous_w_blood.json\", \"w\") as f:\n",
    "    json.dump(json_data, f, indent=2)"
   ],
   "id": "657b53da4a9d56e",
   "outputs": [],
   "execution_count": 240
  }
 ],
 "metadata": {
  "kernelspec": {
   "display_name": "Python 3",
   "language": "python",
   "name": "python3"
  },
  "language_info": {
   "codemirror_mode": {
    "name": "ipython",
    "version": 2
   },
   "file_extension": ".py",
   "mimetype": "text/x-python",
   "name": "python",
   "nbconvert_exporter": "python",
   "pygments_lexer": "ipython2",
   "version": "2.7.6"
  }
 },
 "nbformat": 4,
 "nbformat_minor": 5
}
